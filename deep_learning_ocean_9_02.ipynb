{
  "nbformat": 4,
  "nbformat_minor": 0,
  "metadata": {
    "colab": {
      "name": "deep-learning - ocean 9-02.ipynb",
      "provenance": [],
      "authorship_tag": "ABX9TyPgHNTjGxp3TYOpELK14rkF",
      "include_colab_link": true
    },
    "kernelspec": {
      "name": "python3",
      "display_name": "Python 3"
    }
  },
  "cells": [
    {
      "cell_type": "markdown",
      "metadata": {
        "id": "view-in-github",
        "colab_type": "text"
      },
      "source": [
        "<a href=\"https://colab.research.google.com/github/rayclimaco/introducao_deeplearning/blob/main/deep_learning_ocean_9_02.ipynb\" target=\"_parent\"><img src=\"https://colab.research.google.com/assets/colab-badge.svg\" alt=\"Open In Colab\"/></a>"
      ]
    },
    {
      "cell_type": "markdown",
      "metadata": {
        "id": "B6NYS4Ei1tX8"
      },
      "source": [
        "https://github.com/paulosalvatore/Ocean_DeepLearning_09_02_2021/blob/main/Introducao_Python_Ocean_DeepLearning_09_02_2021.ipynb\r\n",
        "\r\n",
        "Listas são mutáveis, a tupla tem valor final\r\n"
      ]
    },
    {
      "cell_type": "code",
      "metadata": {
        "id": "vGn4ysLH6ZSc"
      },
      "source": [
        "import keras #importa biblioteca Keras\r\n",
        "from keras.datasets import mnist #Base de Dados Mnist\r\n",
        "from tensorflow.python.keras import Sequential # Arquitetura da nossa rede neura\r\n",
        "from tensorflow.python.keras.layers import Dense, Dropout # Neurônio (base da rede) e Regularizador (evita overfitting)\r\n",
        "from tensorflow.compat.v1.keras.optimizers import RMSprop # Otimizador (back propagation)"
      ],
      "execution_count": null,
      "outputs": []
    },
    {
      "cell_type": "code",
      "metadata": {
        "id": "YL8DsyZ99gLv",
        "colab": {
          "base_uri": "https://localhost:8080/"
        },
        "outputId": "1c5ea068-0e9e-41ab-9560-2cb6235e257a"
      },
      "source": [
        "# Carregando os dados de treino e teste\r\n",
        "(x_treino, y_treino), (x_teste, y_teste) = mnist.load_data()"
      ],
      "execution_count": 2,
      "outputs": [
        {
          "output_type": "stream",
          "text": [
            "Downloading data from https://storage.googleapis.com/tensorflow/tf-keras-datasets/mnist.npz\n",
            "11493376/11490434 [==============================] - 0s 0us/step\n"
          ],
          "name": "stdout"
        }
      ]
    },
    {
      "cell_type": "code",
      "metadata": {
        "colab": {
          "base_uri": "https://localhost:8080/"
        },
        "id": "2jdnq-dk_MZZ",
        "outputId": "d4f0978f-3f7c-4bf7-a408-819beda5006a"
      },
      "source": [
        "# analisar o conteúdo do dataset e a estrutura\r\n",
        "\r\n",
        "print (\"Quantidade de imagens para treino:\", len(x_treino))\r\n",
        "\r\n",
        "print (\"Quantidade de imagens para teste:\", len(x_teste))\r\n",
        "\r\n",
        "print (\"tipo de x_treino:\", type(x_treino))\r\n",
        "\r\n",
        "primeira_imagem = x_treino\r\n",
        "\r\n"
      ],
      "execution_count": 3,
      "outputs": [
        {
          "output_type": "stream",
          "text": [
            "Quantidade de imagens para treino: 60000\n",
            "Quantidade de imagens para teste: 10000\n",
            "tipo de x_treino: <class 'numpy.ndarray'>\n"
          ],
          "name": "stdout"
        }
      ]
    }
  ]
}